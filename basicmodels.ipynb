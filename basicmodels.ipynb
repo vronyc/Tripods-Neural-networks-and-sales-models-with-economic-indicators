{
 "cells": [
  {
   "cell_type": "code",
   "execution_count": null,
   "metadata": {
    "colab": {
     "base_uri": "https://localhost:8080/"
    },
    "id": "OyZ5YKTxhfO5",
    "outputId": "cee8f781-dc95-480e-e570-ae320fc88365"
   },
   "outputs": [
    {
     "name": "stdout",
     "output_type": "stream",
     "text": [
      "Note: using Google CoLab\n"
     ]
    }
   ],
   "source": [
    "#@title\n",
    "try:\n",
    "    %tensorflow_version 2.x\n",
    "    COLAB = True\n",
    "    print(\"Note: using Google CoLab\")\n",
    "except:\n",
    "    print(\"Note: not using Google CoLab\")\n",
    "    COLAB = False"
   ]
  },
  {
   "cell_type": "markdown",
   "metadata": {
    "id": "OHc8INOo3xJY"
   },
   "source": [
    "**Imports**"
   ]
  },
  {
   "cell_type": "code",
   "execution_count": null,
   "metadata": {
    "id": "_N3nZH8Oh2KI"
   },
   "outputs": [],
   "source": [
    "# We are going to bring in all the packages we are going to need for this tutorial \n",
    "\n",
    "from tensorflow.keras.models import Sequential\n",
    "from tensorflow.keras.layers import Dense, Activation\n",
    "import pandas as pd\n",
    "import io\n",
    "import os\n",
    "import requests\n",
    "import numpy as np\n",
    "from sklearn import metrics\n",
    "import math\n",
    "from math import log\n",
    "import numpy as np \n",
    "import matplotlib \n",
    "import matplotlib.pyplot as plt\n",
    "\n"
   ]
  },
  {
   "cell_type": "markdown",
   "metadata": {
    "id": "dtPTuwaT32KM"
   },
   "source": [
    "**Data** **Import and** **Cleanup**"
   ]
  },
  {
   "cell_type": "code",
   "execution_count": null,
   "metadata": {
    "id": "7xYxsm8RFYuJ"
   },
   "outputs": [],
   "source": [
    "import pandas as pd\n",
    "\n",
    "url1='https://raw.githubusercontent.com/bielrv/Keras-Daily-Sales-Forecast/master/Daily_sales.csv'\n",
    "\n",
    "df = pd.read_csv(url1,delimiter=';',index_col='date')\n",
    "\n",
    "df.drop(columns=['year','month','dayofyear','dayOfMonth','dayOfWeek','week'], inplace=True)\n",
    "\n",
    "my_index_list=list(df.index)\n",
    "\n",
    "df['ds']=my_index_list\n",
    "\n",
    "df.rename(columns={'loans':'y'}, inplace=True)\n",
    "\n",
    "u=pd.DataFrame()\n",
    "\n",
    "u['ds']=my_index_list\n",
    "u['y']=list(df['y'])\n",
    "\n",
    "my_list=list(u['y']) \n",
    "\n",
    "my_list_test=list(u['y'][0:1346])"
   ]
  },
  {
   "cell_type": "code",
   "execution_count": null,
   "metadata": {
    "colab": {
     "base_uri": "https://localhost:8080/"
    },
    "id": "hKHkNdLoM8A-",
    "outputId": "143ce8a3-f228-483f-fa34-e9103abc8eed"
   },
   "outputs": [
    {
     "data": {
      "text/plain": [
       "Index(['2014-06-01', '2014-06-02', '2014-06-03', '2014-06-04', '2014-06-05',\n",
       "       '2014-06-06', '2014-06-07', '2014-06-08', '2014-06-09', '2014-06-10',\n",
       "       ...\n",
       "       '2018-02-26', '2018-02-27', '2018-02-28', '2018-03-01', '2018-03-02',\n",
       "       '2018-03-03', '2018-03-04', '2018-03-05', '2018-03-06', '2018-03-07'],\n",
       "      dtype='object', name='date', length=1376)"
      ]
     },
     "execution_count": 4,
     "metadata": {},
     "output_type": "execute_result"
    }
   ],
   "source": [
    "df.index"
   ]
  },
  {
   "cell_type": "markdown",
   "metadata": {
    "id": "zpTQKyfa4EGR"
   },
   "source": [
    "**Defining Derivatives**"
   ]
  },
  {
   "cell_type": "code",
   "execution_count": null,
   "metadata": {
    "colab": {
     "base_uri": "https://localhost:8080/"
    },
    "id": "Nrd_9TUPKM6w",
    "outputId": "1b8f65a6-f933-4ede-cf53-2015d845c99b"
   },
   "outputs": [
    {
     "data": {
      "text/plain": [
       "[1, 1, 3]"
      ]
     },
     "execution_count": 5,
     "metadata": {},
     "output_type": "execute_result"
    }
   ],
   "source": [
    "def derivative(my_list):\n",
    "  return [my_list[0]]+[my_list[i]-my_list[i-1] for i in range(1,len(my_list))]\n",
    "\n",
    "derivative([1,2,5])"
   ]
  },
  {
   "cell_type": "markdown",
   "metadata": {
    "id": "xVbQjjec4H5z"
   },
   "source": [
    "**Setting up the data to be plugged into Keras**"
   ]
  },
  {
   "cell_type": "code",
   "execution_count": null,
   "metadata": {
    "colab": {
     "base_uri": "https://localhost:8080/"
    },
    "id": "dymg0bBPHVs4",
    "outputId": "d940a791-ef62-4b20-8b35-1cebc2046d32"
   },
   "outputs": [
    {
     "data": {
      "text/plain": [
       "2682.6643897768954"
      ]
     },
     "execution_count": 6,
     "metadata": {},
     "output_type": "execute_result"
    }
   ],
   "source": [
    "X1=[a for a in range(1346)]\n",
    "\n",
    "X1_pred=[a for a in range(1376)]\n",
    "\n",
    "Y=my_list_test\n",
    "\n",
    "Y_pred=my_list\n",
    "\n",
    "X2=derivative(Y)\n",
    "X2_pred=derivative(Y_pred)\n",
    "\n",
    "X3=derivative(X2)\n",
    "X3_pred=derivative(X2_pred) \n",
    "\n",
    "#x12=np.column_stack((X1,X2))\n",
    "##x12_pred=np.column_stack((X1_pred,X2_pred))\n",
    "\n",
    "x123=np.column_stack((X1,X2,X3))\n",
    "x123_pred=np.column_stack((X1_pred,X2_pred,X3_pred))\n",
    "\n",
    "#x=np.array(X1)\n",
    "#x=x12\n",
    "x=x123\n",
    "#x_pred=np.array(X1_pred)\n",
    "#x_pred=x12_pred\n",
    "x_pred=x123_pred\n",
    "y=np.array(Y) \n",
    "y_pred=np.array(Y_pred)\n",
    "\n",
    "y.std()"
   ]
  },
  {
   "cell_type": "markdown",
   "metadata": {
    "id": "ocgedoIp4R-K"
   },
   "source": [
    "**Running the model**"
   ]
  },
  {
   "cell_type": "markdown",
   "metadata": {
    "id": "qLjUQEFb4QaI"
   },
   "source": []
  },
  {
   "cell_type": "code",
   "execution_count": null,
   "metadata": {
    "colab": {
     "base_uri": "https://localhost:8080/"
    },
    "id": "lFJJpeLnV9dW",
    "outputId": "615bb15e-951d-4088-f808-55c62e3ed0bb"
   },
   "outputs": [
    {
     "name": "stdout",
     "output_type": "stream",
     "text": [
      "Epoch 1/512\n",
      "43/43 - 2s - loss: 6970002.0000 - 2s/epoch - 55ms/step\n",
      "Epoch 2/512\n",
      "43/43 - 2s - loss: 6203235.0000 - 2s/epoch - 42ms/step\n",
      "Epoch 3/512\n",
      "43/43 - 2s - loss: 5643316.0000 - 2s/epoch - 42ms/step\n",
      "Epoch 4/512\n",
      "43/43 - 2s - loss: 5834650.5000 - 2s/epoch - 43ms/step\n",
      "Epoch 5/512\n",
      "43/43 - 2s - loss: 5894033.5000 - 2s/epoch - 42ms/step\n",
      "Epoch 6/512\n",
      "43/43 - 2s - loss: 5867024.5000 - 2s/epoch - 42ms/step\n",
      "Epoch 7/512\n",
      "43/43 - 2s - loss: 5661549.0000 - 2s/epoch - 42ms/step\n",
      "Epoch 8/512\n",
      "43/43 - 2s - loss: 5545695.5000 - 2s/epoch - 42ms/step\n",
      "Epoch 9/512\n",
      "43/43 - 2s - loss: 5790930.5000 - 2s/epoch - 42ms/step\n",
      "Epoch 10/512\n"
     ]
    }
   ],
   "source": [
    "# Build the neural network. The general rule is that the total number of nodes \n",
    "#is approximately 2/3 the sizeof the input. In \n",
    "# this case, the size of the input is 1001. We go a little overboard, \n",
    "#but it generally does not make too much of a difference. \n",
    "# notice that in the first hidden layer (labeled # Hidden 1), input_dim=1. \n",
    "#This is because x above is a 1000 by 1 array. \n",
    "\n",
    "import time\n",
    "start_time = time.time()\n",
    "\n",
    "model = Sequential()\n",
    "model.add(Dense(3000, input_dim=3, activation='relu')) # Hidden 1\n",
    "model.add(Dense(1500, activation='relu')) # Hidden 2\n",
    "#model.add(Dense(55, activation='relu')) # Hidden 3\n",
    "#model.add(Dense(50, activation='relu')) # Hidden 4\n",
    "model.add(Dense(1)) # Output\n",
    "model.compile(loss='mean_squared_error', optimizer='adam')\n",
    "model.fit(x,y,verbose=2,epochs=512)\n",
    "\n",
    "print(\"My program took\", time.time() - start_time, \"to run\")"
   ]
  },
  {
   "cell_type": "markdown",
   "metadata": {
    "id": "osOYQ1dn4aLe"
   },
   "source": [
    "**Making predictions**"
   ]
  },
  {
   "cell_type": "code",
   "execution_count": null,
   "metadata": {
    "id": "r9sx0GgoWUT-"
   },
   "outputs": [],
   "source": [
    "# Here we predict entries 100 to 200 of y. Sure, we already know what they are, but this is not the point. Tensorflow takes a \n",
    "# sample from another part of y and predicts this part. \n",
    "\n",
    "pred = model.predict(x_pred)\n",
    "print(f\"Shape: {pred.shape}\")\n",
    "\n",
    "print(pred[1146:1176])"
   ]
  },
  {
   "cell_type": "markdown",
   "metadata": {
    "id": "au8vvmp34smN"
   },
   "source": [
    "**Measuring the error**"
   ]
  },
  {
   "cell_type": "code",
   "execution_count": null,
   "metadata": {
    "colab": {
     "base_uri": "https://localhost:8080/"
    },
    "id": "yhiPyaHPWoz0",
    "outputId": "d1fef1e0-a05d-49a1-e3ec-abcc6b7ca8db"
   },
   "outputs": [
    {
     "name": "stdout",
     "output_type": "stream",
     "text": [
      "Final score (RMSE): 1567.061407266851\n",
      "41.5856335500403 percent of variance explained\n"
     ]
    }
   ],
   "source": [
    "# Measure RMSE error.  RMSE is common for regression. \n",
    "score = np.sqrt(metrics.mean_squared_error(pred,y_pred))\n",
    "print(f\"Final score (RMSE): {score}\")\n",
    "print(((y.std()-score)/y.std())*100, \"percent of variance explained\")"
   ]
  },
  {
   "cell_type": "markdown",
   "metadata": {
    "id": "2d_tSkuC423i"
   },
   "source": [
    "**Manual error computation**"
   ]
  },
  {
   "cell_type": "code",
   "execution_count": null,
   "metadata": {
    "colab": {
     "base_uri": "https://localhost:8080/"
    },
    "id": "vjclIJoBaXQ2",
    "outputId": "7c45396f-d229-4355-db28-241cfd29603c"
   },
   "outputs": [
    {
     "data": {
      "text/plain": [
       "(1286.1741900490222, 2676.052062741122, 51.937624534420536)"
      ]
     },
     "execution_count": 42,
     "metadata": {},
     "output_type": "execute_result"
    }
   ],
   "source": [
    "# Once again, we compare the actual error instead of an \"average random error\" as above. \n",
    "\n",
    "p=pred[1346:1376]\n",
    "l=list(p)\n",
    "L=[x[0] for x in l]\n",
    "M=my_list[1346:1376]\n",
    "A=my_list\n",
    "#E=[abs(L[i]-M[i]) for i in range(len(L))]\n",
    "E=[(L[i]-M[i])**2 for i in range(len(L))]\n",
    "\n",
    "e=np.sqrt(sum(E)/29)\n",
    "\n",
    "e, np.array(A).std(), 100*(np.array(A).std()-e)/np.array(A).std()"
   ]
  },
  {
   "cell_type": "markdown",
   "metadata": {
    "id": "uHdwK3EF_jLN"
   },
   "source": [
    "**RESULTS**\n",
    "\n",
    "In the three runs below, we will be using 3000 in the first layer and 1500 in the second layer for all three situations. \n",
    "\n",
    "2 regressors \n",
    "\n",
    "(909.1109071928879, 2676.052062741122, 66.02790656241301)\n",
    "\n",
    "-----\n",
    "\n",
    "1 regressor, same number of layers \n",
    "\n",
    "(1373.8494915140086, 2676.052062741122, 48.66133171913131)\n",
    "\n",
    "----\n",
    "\n",
    "No regressors \n",
    "\n",
    "(1697.271417025862, 2676.052062741122, 36.57554572061201)\n",
    "\n",
    "\n",
    "\n",
    "\n",
    "\n"
   ]
  },
  {
   "cell_type": "markdown",
   "metadata": {
    "id": "_82N7qlIQOLv"
   },
   "source": [
    "**The same experiment with mean square error** "
   ]
  },
  {
   "cell_type": "markdown",
   "metadata": {
    "id": "Q0BWYq3-QTP1"
   },
   "source": [
    "No regressors \n",
    "\n",
    "(2016.6706547435772, 2676.052062741122, 24.640081453502443)\n",
    "\n",
    "1 regressor \n",
    "\n",
    "(1591.8296460889603, 2676.052062741122, 40.515744508407494)\n",
    "\n",
    "2 regressors \n",
    "\n",
    "(1286.1741900490222, 2676.052062741122, 51.937624534420536)"
   ]
  },
  {
   "cell_type": "markdown",
   "metadata": {
    "id": "ySVJjqKlLtOa"
   },
   "source": [
    "**We are now going to run the same experiment with Prophet** "
   ]
  },
  {
   "cell_type": "code",
   "execution_count": null,
   "metadata": {
    "colab": {
     "base_uri": "https://localhost:8080/"
    },
    "id": "akaqJv6XLzPN",
    "outputId": "44ee7f28-938f-4996-8975-2e9983c875f3"
   },
   "outputs": [
    {
     "name": "stdout",
     "output_type": "stream",
     "text": [
      "Collecting prophet\n",
      "  Downloading prophet-1.0.1.tar.gz (65 kB)\n",
      "\u001b[?25l\r",
      "\u001b[K     |█████                           | 10 kB 17.4 MB/s eta 0:00:01\r",
      "\u001b[K     |██████████                      | 20 kB 11.0 MB/s eta 0:00:01\r",
      "\u001b[K     |███████████████                 | 30 kB 5.8 MB/s eta 0:00:01\r",
      "\u001b[K     |████████████████████            | 40 kB 5.2 MB/s eta 0:00:01\r",
      "\u001b[K     |█████████████████████████       | 51 kB 4.8 MB/s eta 0:00:01\r",
      "\u001b[K     |██████████████████████████████  | 61 kB 4.8 MB/s eta 0:00:01\r",
      "\u001b[K     |████████████████████████████████| 65 kB 1.7 MB/s \n",
      "\u001b[?25hRequirement already satisfied: Cython>=0.22 in /usr/local/lib/python3.7/dist-packages (from prophet) (0.29.24)\n",
      "Collecting cmdstanpy==0.9.68\n",
      "  Downloading cmdstanpy-0.9.68-py3-none-any.whl (49 kB)\n",
      "\u001b[K     |████████████████████████████████| 49 kB 2.0 MB/s \n",
      "\u001b[?25hRequirement already satisfied: pystan~=2.19.1.1 in /usr/local/lib/python3.7/dist-packages (from prophet) (2.19.1.1)\n",
      "Requirement already satisfied: numpy>=1.15.4 in /usr/local/lib/python3.7/dist-packages (from prophet) (1.19.5)\n",
      "Requirement already satisfied: pandas>=1.0.4 in /usr/local/lib/python3.7/dist-packages (from prophet) (1.1.5)\n",
      "Requirement already satisfied: matplotlib>=2.0.0 in /usr/local/lib/python3.7/dist-packages (from prophet) (3.2.2)\n",
      "Requirement already satisfied: LunarCalendar>=0.0.9 in /usr/local/lib/python3.7/dist-packages (from prophet) (0.0.9)\n",
      "Requirement already satisfied: convertdate>=2.1.2 in /usr/local/lib/python3.7/dist-packages (from prophet) (2.3.2)\n",
      "Requirement already satisfied: holidays>=0.10.2 in /usr/local/lib/python3.7/dist-packages (from prophet) (0.10.5.2)\n",
      "Requirement already satisfied: setuptools-git>=1.2 in /usr/local/lib/python3.7/dist-packages (from prophet) (1.2)\n",
      "Requirement already satisfied: python-dateutil>=2.8.0 in /usr/local/lib/python3.7/dist-packages (from prophet) (2.8.2)\n",
      "Requirement already satisfied: tqdm>=4.36.1 in /usr/local/lib/python3.7/dist-packages (from prophet) (4.62.3)\n",
      "Collecting ujson\n",
      "  Downloading ujson-5.1.0-cp37-cp37m-manylinux_2_17_x86_64.manylinux2014_x86_64.whl (43 kB)\n",
      "\u001b[K     |████████████████████████████████| 43 kB 2.2 MB/s \n",
      "\u001b[?25hRequirement already satisfied: pymeeus<=1,>=0.3.13 in /usr/local/lib/python3.7/dist-packages (from convertdate>=2.1.2->prophet) (0.5.11)\n",
      "Requirement already satisfied: pytz>=2014.10 in /usr/local/lib/python3.7/dist-packages (from convertdate>=2.1.2->prophet) (2018.9)\n",
      "Requirement already satisfied: korean-lunar-calendar in /usr/local/lib/python3.7/dist-packages (from holidays>=0.10.2->prophet) (0.2.1)\n",
      "Requirement already satisfied: six in /usr/local/lib/python3.7/dist-packages (from holidays>=0.10.2->prophet) (1.15.0)\n",
      "Requirement already satisfied: hijri-converter in /usr/local/lib/python3.7/dist-packages (from holidays>=0.10.2->prophet) (2.2.2)\n",
      "Requirement already satisfied: ephem>=3.7.5.3 in /usr/local/lib/python3.7/dist-packages (from LunarCalendar>=0.0.9->prophet) (4.1)\n",
      "Requirement already satisfied: pyparsing!=2.0.4,!=2.1.2,!=2.1.6,>=2.0.1 in /usr/local/lib/python3.7/dist-packages (from matplotlib>=2.0.0->prophet) (3.0.6)\n",
      "Requirement already satisfied: cycler>=0.10 in /usr/local/lib/python3.7/dist-packages (from matplotlib>=2.0.0->prophet) (0.11.0)\n",
      "Requirement already satisfied: kiwisolver>=1.0.1 in /usr/local/lib/python3.7/dist-packages (from matplotlib>=2.0.0->prophet) (1.3.2)\n",
      "Building wheels for collected packages: prophet\n",
      "  Building wheel for prophet (setup.py) ... \u001b[?25l\u001b[?25hdone\n",
      "  Created wheel for prophet: filename=prophet-1.0.1-py3-none-any.whl size=6640534 sha256=714acc9baa22204e9e0c863e59013313be8124e12db74bfc10ba5bec802cc7af\n",
      "  Stored in directory: /root/.cache/pip/wheels/4e/a0/1a/02c9ec9e3e9de6bdbb3d769d11992a6926889d71567d6b9b67\n",
      "Successfully built prophet\n",
      "Installing collected packages: ujson, cmdstanpy, prophet\n",
      "  Attempting uninstall: cmdstanpy\n",
      "    Found existing installation: cmdstanpy 0.9.5\n",
      "    Uninstalling cmdstanpy-0.9.5:\n",
      "      Successfully uninstalled cmdstanpy-0.9.5\n",
      "\u001b[31mERROR: pip's dependency resolver does not currently take into account all the packages that are installed. This behaviour is the source of the following dependency conflicts.\n",
      "fbprophet 0.7.1 requires cmdstanpy==0.9.5, but you have cmdstanpy 0.9.68 which is incompatible.\u001b[0m\n",
      "Successfully installed cmdstanpy-0.9.68 prophet-1.0.1 ujson-5.1.0\n"
     ]
    }
   ],
   "source": [
    "pip install prophet"
   ]
  },
  {
   "cell_type": "markdown",
   "metadata": {
    "id": "oAZolY2xLctV"
   },
   "source": [
    "**More imports**"
   ]
  },
  {
   "cell_type": "code",
   "execution_count": null,
   "metadata": {
    "id": "NBeErEagJ-Hf"
   },
   "outputs": [],
   "source": [
    "from prophet import Prophet\n",
    "import pandas as pd \n",
    "import numpy as np \n",
    "import matplotlib.pyplot as plt\n",
    "import math \n",
    "import os\n",
    "import datetime\n",
    "import sys\n",
    "import numpy "
   ]
  },
  {
   "cell_type": "markdown",
   "metadata": {
    "id": "u9kM-EJ3Lfg4"
   },
   "source": [
    "**Bringing in (same) data**"
   ]
  },
  {
   "cell_type": "code",
   "execution_count": null,
   "metadata": {
    "colab": {
     "base_uri": "https://localhost:8080/",
     "height": 206
    },
    "id": "sumkW6SHKy5N",
    "outputId": "f6ae8e2e-8747-4c68-d879-3f209db3d9fa"
   },
   "outputs": [
    {
     "data": {
      "text/html": [
       "\n",
       "  <div id=\"df-6d408594-8447-41a8-8e02-6591da9b7f99\">\n",
       "    <div class=\"colab-df-container\">\n",
       "      <div>\n",
       "<style scoped>\n",
       "    .dataframe tbody tr th:only-of-type {\n",
       "        vertical-align: middle;\n",
       "    }\n",
       "\n",
       "    .dataframe tbody tr th {\n",
       "        vertical-align: top;\n",
       "    }\n",
       "\n",
       "    .dataframe thead th {\n",
       "        text-align: right;\n",
       "    }\n",
       "</style>\n",
       "<table border=\"1\" class=\"dataframe\">\n",
       "  <thead>\n",
       "    <tr style=\"text-align: right;\">\n",
       "      <th></th>\n",
       "      <th>ds</th>\n",
       "      <th>y</th>\n",
       "    </tr>\n",
       "  </thead>\n",
       "  <tbody>\n",
       "    <tr>\n",
       "      <th>1341</th>\n",
       "      <td>2018-02-01</td>\n",
       "      <td>4200</td>\n",
       "    </tr>\n",
       "    <tr>\n",
       "      <th>1342</th>\n",
       "      <td>2018-02-02</td>\n",
       "      <td>7500</td>\n",
       "    </tr>\n",
       "    <tr>\n",
       "      <th>1343</th>\n",
       "      <td>2018-02-03</td>\n",
       "      <td>3600</td>\n",
       "    </tr>\n",
       "    <tr>\n",
       "      <th>1344</th>\n",
       "      <td>2018-02-04</td>\n",
       "      <td>3800</td>\n",
       "    </tr>\n",
       "    <tr>\n",
       "      <th>1345</th>\n",
       "      <td>2018-02-05</td>\n",
       "      <td>5900</td>\n",
       "    </tr>\n",
       "  </tbody>\n",
       "</table>\n",
       "</div>\n",
       "      <button class=\"colab-df-convert\" onclick=\"convertToInteractive('df-6d408594-8447-41a8-8e02-6591da9b7f99')\"\n",
       "              title=\"Convert this dataframe to an interactive table.\"\n",
       "              style=\"display:none;\">\n",
       "        \n",
       "  <svg xmlns=\"http://www.w3.org/2000/svg\" height=\"24px\"viewBox=\"0 0 24 24\"\n",
       "       width=\"24px\">\n",
       "    <path d=\"M0 0h24v24H0V0z\" fill=\"none\"/>\n",
       "    <path d=\"M18.56 5.44l.94 2.06.94-2.06 2.06-.94-2.06-.94-.94-2.06-.94 2.06-2.06.94zm-11 1L8.5 8.5l.94-2.06 2.06-.94-2.06-.94L8.5 2.5l-.94 2.06-2.06.94zm10 10l.94 2.06.94-2.06 2.06-.94-2.06-.94-.94-2.06-.94 2.06-2.06.94z\"/><path d=\"M17.41 7.96l-1.37-1.37c-.4-.4-.92-.59-1.43-.59-.52 0-1.04.2-1.43.59L10.3 9.45l-7.72 7.72c-.78.78-.78 2.05 0 2.83L4 21.41c.39.39.9.59 1.41.59.51 0 1.02-.2 1.41-.59l7.78-7.78 2.81-2.81c.8-.78.8-2.07 0-2.86zM5.41 20L4 18.59l7.72-7.72 1.47 1.35L5.41 20z\"/>\n",
       "  </svg>\n",
       "      </button>\n",
       "      \n",
       "  <style>\n",
       "    .colab-df-container {\n",
       "      display:flex;\n",
       "      flex-wrap:wrap;\n",
       "      gap: 12px;\n",
       "    }\n",
       "\n",
       "    .colab-df-convert {\n",
       "      background-color: #E8F0FE;\n",
       "      border: none;\n",
       "      border-radius: 50%;\n",
       "      cursor: pointer;\n",
       "      display: none;\n",
       "      fill: #1967D2;\n",
       "      height: 32px;\n",
       "      padding: 0 0 0 0;\n",
       "      width: 32px;\n",
       "    }\n",
       "\n",
       "    .colab-df-convert:hover {\n",
       "      background-color: #E2EBFA;\n",
       "      box-shadow: 0px 1px 2px rgba(60, 64, 67, 0.3), 0px 1px 3px 1px rgba(60, 64, 67, 0.15);\n",
       "      fill: #174EA6;\n",
       "    }\n",
       "\n",
       "    [theme=dark] .colab-df-convert {\n",
       "      background-color: #3B4455;\n",
       "      fill: #D2E3FC;\n",
       "    }\n",
       "\n",
       "    [theme=dark] .colab-df-convert:hover {\n",
       "      background-color: #434B5C;\n",
       "      box-shadow: 0px 1px 3px 1px rgba(0, 0, 0, 0.15);\n",
       "      filter: drop-shadow(0px 1px 2px rgba(0, 0, 0, 0.3));\n",
       "      fill: #FFFFFF;\n",
       "    }\n",
       "  </style>\n",
       "\n",
       "      <script>\n",
       "        const buttonEl =\n",
       "          document.querySelector('#df-6d408594-8447-41a8-8e02-6591da9b7f99 button.colab-df-convert');\n",
       "        buttonEl.style.display =\n",
       "          google.colab.kernel.accessAllowed ? 'block' : 'none';\n",
       "\n",
       "        async function convertToInteractive(key) {\n",
       "          const element = document.querySelector('#df-6d408594-8447-41a8-8e02-6591da9b7f99');\n",
       "          const dataTable =\n",
       "            await google.colab.kernel.invokeFunction('convertToInteractive',\n",
       "                                                     [key], {});\n",
       "          if (!dataTable) return;\n",
       "\n",
       "          const docLinkHtml = 'Like what you see? Visit the ' +\n",
       "            '<a target=\"_blank\" href=https://colab.research.google.com/notebooks/data_table.ipynb>data table notebook</a>'\n",
       "            + ' to learn more about interactive tables.';\n",
       "          element.innerHTML = '';\n",
       "          dataTable['output_type'] = 'display_data';\n",
       "          await google.colab.output.renderOutput(dataTable, element);\n",
       "          const docLink = document.createElement('div');\n",
       "          docLink.innerHTML = docLinkHtml;\n",
       "          element.appendChild(docLink);\n",
       "        }\n",
       "      </script>\n",
       "    </div>\n",
       "  </div>\n",
       "  "
      ],
      "text/plain": [
       "              ds     y\n",
       "1341  2018-02-01  4200\n",
       "1342  2018-02-02  7500\n",
       "1343  2018-02-03  3600\n",
       "1344  2018-02-04  3800\n",
       "1345  2018-02-05  5900"
      ]
     },
     "execution_count": 6,
     "metadata": {},
     "output_type": "execute_result"
    }
   ],
   "source": [
    "prophetdf=u.iloc[0:1346]\n",
    "\n",
    "prophetdf.tail()"
   ]
  },
  {
   "cell_type": "markdown",
   "metadata": {
    "id": "Npzdsdw4Lk7G"
   },
   "source": [
    "**Activating prophet**"
   ]
  },
  {
   "cell_type": "code",
   "execution_count": null,
   "metadata": {
    "colab": {
     "base_uri": "https://localhost:8080/"
    },
    "id": "LTtjtD7kLQfH",
    "outputId": "aa0aac46-ac02-4437-c727-fe6475b5cf1e"
   },
   "outputs": [
    {
     "name": "stderr",
     "output_type": "stream",
     "text": [
      "INFO:prophet:Disabling daily seasonality. Run prophet with daily_seasonality=True to override this.\n"
     ]
    },
    {
     "data": {
      "text/plain": [
       "<prophet.forecaster.Prophet at 0x7f780e475190>"
      ]
     },
     "execution_count": 17,
     "metadata": {},
     "output_type": "execute_result"
    }
   ],
   "source": [
    "m = Prophet(yearly_seasonality = True)\n",
    "#m.add_regressor('regressor')\n",
    "m.add_country_holidays(country_name='US')\n",
    "m.train_holiday_names\n",
    "m.fit(prophetdf)"
   ]
  },
  {
   "cell_type": "markdown",
   "metadata": {
    "id": "73o9sEofMQOs"
   },
   "source": [
    "**Activating the forecast**"
   ]
  },
  {
   "cell_type": "code",
   "execution_count": null,
   "metadata": {
    "id": "PrwLEW27Lt0W"
   },
   "outputs": [],
   "source": [
    "future = m.make_future_dataframe(periods=30)\n",
    "\n",
    "#future['regressor'] = regressor+regressor[1171:1201]\n",
    "\n",
    "forecast = m.predict(future)\n",
    "\n",
    "predicteddf=forecast[['ds', 'yhat']].tail(30)\n",
    "\n",
    "P=list(predicteddf['yhat'])\n",
    "\n",
    "P_array=np.array(P) \n",
    "\n",
    "predicteddf"
   ]
  },
  {
   "cell_type": "markdown",
   "metadata": {
    "id": "k_3qUoWOOC3j"
   },
   "source": [
    "**Measuring the error**"
   ]
  },
  {
   "cell_type": "code",
   "execution_count": null,
   "metadata": {
    "colab": {
     "base_uri": "https://localhost:8080/"
    },
    "id": "oDe_dMrTOA_X",
    "outputId": "aadd9e49-2263-4187-f466-a17e91353670"
   },
   "outputs": [
    {
     "data": {
      "text/plain": [
       "(1284.2455017935533, 2682.6643897768954, 0.5212798489861201)"
      ]
     },
     "execution_count": 31,
     "metadata": {},
     "output_type": "execute_result"
    }
   ],
   "source": [
    "M=list(predicteddf['yhat'])\n",
    "\n",
    "L=list(u.iloc[1346:1376]['y']) \n",
    "\n",
    "E=[(L[i]-M[i])**2 for i in range(len(L))]\n",
    "\n",
    "A=list(prophetdf['y'])\n",
    "\n",
    "e=np.sqrt(sum(E)/29)\n",
    "\n",
    "std=np.array(A).std()\n",
    "\n",
    "e,std,(std-e)/std"
   ]
  },
  {
   "cell_type": "markdown",
   "metadata": {
    "id": "8AMYME6WQOo_"
   },
   "source": [
    "**Neural Prophet**"
   ]
  },
  {
   "cell_type": "code",
   "execution_count": null,
   "metadata": {
    "id": "-NTitAiIQSM6"
   },
   "outputs": [],
   "source": [
    "pip install neuralprophet"
   ]
  },
  {
   "cell_type": "markdown",
   "metadata": {
    "id": "txhFoU-sQcvD"
   },
   "source": []
  },
  {
   "cell_type": "code",
   "execution_count": null,
   "metadata": {
    "id": "6DfuGFC4Qf8Q"
   },
   "outputs": [],
   "source": [
    "from neuralprophet import NeuralProphet"
   ]
  },
  {
   "cell_type": "markdown",
   "metadata": {
    "id": "L4Ug9TsJQuh7"
   },
   "source": [
    "**Activating NeuralProphet**"
   ]
  },
  {
   "cell_type": "code",
   "execution_count": null,
   "metadata": {
    "id": "B6EBnkWJQkDX"
   },
   "outputs": [],
   "source": [
    "# model = NeuralProphet() if you're using default variables below.\n",
    "model = NeuralProphet(\n",
    "    growth=\"linear\",  # Determine trend types: 'linear', 'discontinuous', 'off'\n",
    "    changepoints=None, # list of dates that may include change points (None -> automatic )\n",
    "    n_changepoints=5,\n",
    "    #changepoints_range=0.8,\n",
    "    trend_reg=0,\n",
    "    trend_reg_threshold=False,\n",
    "    yearly_seasonality=True,\n",
    "    weekly_seasonality='auto',\n",
    "    daily_seasonality='auto',\n",
    "    seasonality_mode=\"additive\",\n",
    "    #seasonality_reg=0,\n",
    "    n_forecasts=1,\n",
    "    n_lags=0,\n",
    "    num_hidden_layers=1,\n",
    "    d_hidden=1000,     # Dimension of hidden layers of AR-Net\n",
    "    ar_sparsity=None,  # Sparcity in the AR coefficients\n",
    "    learning_rate=.1,\n",
    "    epochs=512,\n",
    "    loss_func=\"MAE\",\n",
    "    normalize=\"auto\",  # Type of normalization ('minmax', 'standardize', 'soft', 'off')\n",
    "    impute_missing=True)"
   ]
  },
  {
   "cell_type": "markdown",
   "metadata": {
    "id": "G5s70USVQx2t"
   },
   "source": [
    "**Running the model**"
   ]
  },
  {
   "cell_type": "code",
   "execution_count": null,
   "metadata": {
    "colab": {
     "base_uri": "https://localhost:8080/"
    },
    "id": "zKRMQnxFQ48s",
    "outputId": "a58b5667-ef1e-4329-955f-4ed047bd606d"
   },
   "outputs": [
    {
     "name": "stderr",
     "output_type": "stream",
     "text": [
      "INFO - (NP.utils.set_auto_seasonalities) - Disabling daily seasonality. Run NeuralProphet with daily_seasonality=True to override this.\n",
      "INFO:NP.utils:Disabling daily seasonality. Run NeuralProphet with daily_seasonality=True to override this.\n",
      "INFO - (NP.config.set_auto_batch_epoch) - Auto-set batch_size to 32\n",
      "INFO:NP.config:Auto-set batch_size to 32\n",
      "Epoch[512/512]: 100%|██████████| 512/512 [00:40<00:00, 12.80it/s, L1Loss=0.136, MAE=1.19e+3, RMSE=1.76e+3, RegLoss=0]\n"
     ]
    }
   ],
   "source": [
    "metrics = model.fit(prophetdf, freq=\"D\")\n",
    "future = model.make_future_dataframe(u, periods=30, n_historic_predictions=len(u))\n",
    "forecast = model.predict(future)"
   ]
  },
  {
   "cell_type": "code",
   "execution_count": null,
   "metadata": {
    "colab": {
     "base_uri": "https://localhost:8080/"
    },
    "id": "_yDm6Rg2ROu1",
    "outputId": "b6c87269-2c6b-4337-fa03-a59646f9f84f"
   },
   "outputs": [
    {
     "name": "stderr",
     "output_type": "stream",
     "text": [
      "WARNING - (py.warnings._showwarnmsg) - /usr/local/lib/python3.7/dist-packages/pandas/core/frame.py:4174: SettingWithCopyWarning:\n",
      "\n",
      "\n",
      "A value is trying to be set on a copy of a slice from a DataFrame\n",
      "\n",
      "See the caveats in the documentation: https://pandas.pydata.org/pandas-docs/stable/user_guide/indexing.html#returning-a-view-versus-a-copy\n",
      "\n",
      "\n",
      "WARNING:py.warnings:/usr/local/lib/python3.7/dist-packages/pandas/core/frame.py:4174: SettingWithCopyWarning:\n",
      "\n",
      "\n",
      "A value is trying to be set on a copy of a slice from a DataFrame\n",
      "\n",
      "See the caveats in the documentation: https://pandas.pydata.org/pandas-docs/stable/user_guide/indexing.html#returning-a-view-versus-a-copy\n",
      "\n",
      "\n"
     ]
    }
   ],
   "source": [
    "forecast_basic=forecast.iloc[1346:1376]\n",
    "\n",
    "#forecast_basic.drop(columns=['residual1','trend','season_yearly','season_weekly','y'], inplace=True)\n",
    "\n",
    "forecast_basic.drop(columns=['residual1','trend','season_yearly','y'], inplace=True)"
   ]
  },
  {
   "cell_type": "code",
   "execution_count": null,
   "metadata": {
    "id": "eHNUWURyRZwg"
   },
   "outputs": [],
   "source": [
    "forecast_basic"
   ]
  },
  {
   "cell_type": "code",
   "execution_count": null,
   "metadata": {
    "colab": {
     "base_uri": "https://localhost:8080/"
    },
    "id": "OgudPTUNTcO1",
    "outputId": "0cf19e0f-256c-4ef8-83f9-ffb57e00a5a6"
   },
   "outputs": [
    {
     "data": {
      "text/plain": [
       "(1384.01642382117, 2682.6643897768954, 0.4840888673606048)"
      ]
     },
     "execution_count": 67,
     "metadata": {},
     "output_type": "execute_result"
    }
   ],
   "source": [
    "M=list(forecast_basic['yhat1'])\n",
    "\n",
    "L=list(u.iloc[1346:1376]['y']) \n",
    "\n",
    "E=[(L[i]-M[i])**2 for i in range(len(L))]\n",
    "\n",
    "A=list(prophetdf['y'])\n",
    "\n",
    "e=np.sqrt(sum(E)/29)\n",
    "\n",
    "std=np.array(A).std()\n",
    "\n",
    "e,std,(std-e)/std"
   ]
  },
  {
   "cell_type": "code",
   "execution_count": null,
   "metadata": {
    "colab": {
     "base_uri": "https://localhost:8080/",
     "height": 265
    },
    "id": "ZTl_C4uPOHiu",
    "outputId": "821a1f49-4bc0-4c7e-821f-57180e2472f4"
   },
   "outputs": [
    {
     "data": {
      "image/png": "[encoded data removed]",
      "text/plain": [
       "<Figure size 432x288 with 1 Axes>"
      ]
     },
     "metadata": {
      "needs_background": "light"
     },
     "output_type": "display_data"
    }
   ],
   "source": [
    "A=[1,4,9,16,25]\n",
    "B=[1,8,27,64,81]\n",
    "\n",
    "#plt.plot(A)\n",
    "#plt.plot(B)\n",
    "plt.fill_between(A,B) \n",
    "plt.show()\n",
    "\n"
   ]
  },
  {
   "cell_type": "code",
   "execution_count": null,
   "metadata": {
    "colab": {
     "base_uri": "https://localhost:8080/"
    },
    "id": "YFxlHAU_PWo4",
    "outputId": "54ec05f3-4cc2-4414-d33a-5a38fd6e4b46"
   },
   "outputs": [
    {
     "name": "stdout",
     "output_type": "stream",
     "text": [
      "8.227599999999999\n"
     ]
    }
   ],
   "source": [
    "from shapely.geometry import Polygon\n",
    "\n",
    "x_y_curve1 = [(0.121,0.232),(2.898,4.554),(7.865,9.987)] #these are your points for curve 1 (I just put some random numbers)\n",
    "x_y_curve2 = [(1.221,1.232),(3.898,5.554),(8.865,7.987)] #these are your points for curve 2 (I just put some random numbers)\n",
    "\n",
    "polygon_points = [] #creates a empty list where we will append the points to create the polygon\n",
    "\n",
    "for xyvalue in x_y_curve1:\n",
    "    polygon_points.append([xyvalue[0],xyvalue[1]]) #append all xy points for curve 1\n",
    "\n",
    "for xyvalue in x_y_curve2[::-1]:\n",
    "    polygon_points.append([xyvalue[0],xyvalue[1]]) #append all xy points for curve 2 in the reverse order (from last point to first point)\n",
    "\n",
    "for xyvalue in x_y_curve1[0:1]:\n",
    "    polygon_points.append([xyvalue[0],xyvalue[1]]) #append the first point in curve 1 again, to it \"closes\" the polygon\n",
    "\n",
    "polygon = Polygon(polygon_points)\n",
    "area = polygon.area\n",
    "print(area)"
   ]
  }
 ],
 "metadata": {
  "colab": {
   "collapsed_sections": [],
   "name": "tfexperiments.ipynb",
   "provenance": []
  },
  "kernelspec": {
   "display_name": "Python 3 (ipykernel)",
   "language": "python",
   "name": "python3"
  },
  "language_info": {
   "codemirror_mode": {
    "name": "ipython",
    "version": 3
   },
   "file_extension": ".py",
   "mimetype": "text/x-python",
   "name": "python",
   "nbconvert_exporter": "python",
   "pygments_lexer": "ipython3",
   "version": "3.9.7"
  }
 },
 "nbformat": 4,
 "nbformat_minor": 1
}
